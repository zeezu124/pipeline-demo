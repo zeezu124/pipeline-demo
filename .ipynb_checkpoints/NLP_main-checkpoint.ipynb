{
 "cells": [
  {
   "cell_type": "markdown",
   "id": "8c2ede21",
   "metadata": {},
   "source": [
    "## Install Requirements"
   ]
  },
  {
   "cell_type": "code",
   "execution_count": null,
   "id": "7e6c4e6e",
   "metadata": {},
   "outputs": [],
   "source": [
    "!pip install -r requirements.txt"
   ]
  },
  {
   "cell_type": "markdown",
   "id": "1d35ecb8",
   "metadata": {},
   "source": [
    "Open the project directory, and run the app.py file on terminal to open the connections and then run the tests on the notebook"
   ]
  },
  {
   "cell_type": "code",
   "execution_count": null,
   "id": "1b8bd571",
   "metadata": {},
   "outputs": [],
   "source": [
    "#!python app.py"
   ]
  },
  {
   "cell_type": "markdown",
   "id": "8fa6fb66",
   "metadata": {},
   "source": [
    "## Section 3: Testing on the Deployed Endpoint\n",
    "After running app.py locally on terminal(outside the notebook), vist http://localhost:5000/ to view the web application."
   ]
  },
  {
   "cell_type": "code",
   "execution_count": 11,
   "id": "e54a8130",
   "metadata": {},
   "outputs": [
    {
     "name": "stdout",
     "output_type": "stream",
     "text": [
      "{'output': \"The text: I'm so angry right now! | denotes this emotion: annoyance | with a confidence score of 0.9999444484710693\"}\n",
      "{'output': 'The text: This is absolutely infuriating! | denotes this emotion: annoyance | with a confidence score of 0.9999489784240723'}\n",
      "{'output': \"The text: I can't believe how frustrating this situation is! | denotes this emotion: annoyance | with a confidence score of 0.9999476671218872\"}\n",
      "{'output': \"The text: I'm fed up with all the incompetence! | denotes this emotion: annoyance | with a confidence score of 0.9999459981918335\"}\n",
      "{'output': 'The text: This is making my blood boil! | denotes this emotion: fear | with a confidence score of 0.9994780421257019'}\n",
      "{'output': \"The text: I'm seething with anger! | denotes this emotion: annoyance | with a confidence score of 0.999929666519165\"}\n",
      "{'output': \"The text: I've had enough of this nonsense! | denotes this emotion: annoyance | with a confidence score of 0.9998941421508789\"}\n",
      "{'output': 'The text: This is driving me crazy! | denotes this emotion: amusement | with a confidence score of 0.9999020099639893'}\n",
      "{'output': \"The text: I'm outraged by their behavior! | denotes this emotion: annoyance | with a confidence score of 0.999792754650116\"}\n",
      "{'output': \"The text: I'm seeing red! | denotes this emotion: neutral | with a confidence score of 0.9999550580978394\"}\n",
      "{'output': \"The text: I can't contain my anger anymore! | denotes this emotion: annoyance | with a confidence score of 0.9999438524246216\"}\n",
      "{'output': 'The text: This is beyond infuriating! | denotes this emotion: annoyance | with a confidence score of 0.9999479055404663'}\n",
      "{'output': \"The text: I'm furious! | denotes this emotion: annoyance | with a confidence score of 0.9999443292617798\"}\n",
      "{'output': \"The text: I'm really pissed off! | denotes this emotion: annoyance | with a confidence score of 0.999951958656311\"}\n",
      "{'output': \"The text: I'm livid with rage! | denotes this emotion: annoyance | with a confidence score of 0.9999258518218994\"}\n",
      "{'output': 'The text: This is making me lose my temper! | denotes this emotion: sadness | with a confidence score of 0.9998735189437866'}\n",
      "{'output': \"The text: I'm so mad I could scream! | denotes this emotion: annoyance | with a confidence score of 0.9991857409477234\"}\n",
      "{'output': \"The text: I can't stand this anymore! | denotes this emotion: annoyance | with a confidence score of 0.9999573230743408\"}\n",
      "{'output': \"The text: I'm absolutely incensed! | denotes this emotion: annoyance | with a confidence score of 0.9995498061180115\"}\n",
      "{'output': 'The text: This is making me want to tear my hair out! | denotes this emotion: sadness | with a confidence score of 0.9993703961372375'}\n"
     ]
    }
   ],
   "source": [
    "import requests\n",
    "\n",
    "def perform_curl_requests(api_endpoint, input_texts):\n",
    "    for input_text in input_texts:\n",
    "        payload = {\"input_text\": input_text}\n",
    "        response = requests.post(api_endpoint, json=payload)\n",
    "        if response.status_code == 200:\n",
    "            print(response.json())\n",
    "        else:\n",
    "            print(f\"Error occurred for input text '{input_text}': {response.text}\")\n",
    "\n",
    "# Example usage\n",
    "api_endpoint = \"http://127.0.0.1:5000/results\"\n",
    "input_texts = [\n",
    "    \"I'm so angry right now!\",\n",
    "    \"This is absolutely infuriating!\",\n",
    "    \"I can't believe how frustrating this situation is!\",\n",
    "    \"I'm fed up with all the incompetence!\",\n",
    "    \"This is making my blood boil!\",\n",
    "    \"I'm seething with anger!\",\n",
    "    \"I've had enough of this nonsense!\",\n",
    "    \"This is driving me crazy!\",\n",
    "    \"I'm outraged by their behavior!\",\n",
    "    \"I'm seeing red!\",\n",
    "    \"I can't contain my anger anymore!\",\n",
    "    \"This is beyond infuriating!\",\n",
    "    \"I'm furious!\",\n",
    "    \"I'm really pissed off!\",\n",
    "    \"I'm livid with rage!\",\n",
    "    \"This is making me lose my temper!\",\n",
    "    \"I'm so mad I could scream!\",\n",
    "    \"I can't stand this anymore!\",\n",
    "    \"I'm absolutely incensed!\",\n",
    "    \"This is making me want to tear my hair out!\"\n",
    "]\n",
    "perform_curl_requests(api_endpoint, input_texts)\n"
   ]
  },
  {
   "cell_type": "code",
   "execution_count": 42,
   "id": "35d42c36",
   "metadata": {},
   "outputs": [],
   "source": [
    "import requests\n",
    "\n",
    "def perform_curl_requests(api_endpoint, input_texts):\n",
    "    total_confidence = 0\n",
    "    num_responses = 0\n",
    "\n",
    "    for input_text in input_texts:\n",
    "        payload = {\"input_text\": input_text}\n",
    "        response = requests.post(api_endpoint, json=payload)\n",
    "        if response.status_code == 200:\n",
    "            data = response.json()\n",
    "            output = data[\"output\"]\n",
    "            confidence = float(output[0][\"score\"])\n",
    "            total_confidence += confidence\n",
    "            num_responses += 1\n",
    "\n",
    "            print(output)\n",
    "            print(f\"Confidence: {confidence}\\n\")\n",
    "        else:\n",
    "            print(f\"Error occurred for input text '{input_text}': {response.text}\\n\")\n",
    "\n",
    "    if num_responses > 0:\n",
    "        mean_confidence = total_confidence / num_responses\n",
    "        print(f\"Mean Confidence: {mean_confidence}\")\n",
    "\n",
    "# Example usage\n",
    "api_endpoint = \"http://127.0.0.1:5000/results_json\"\n"
   ]
  },
  {
   "cell_type": "code",
   "execution_count": 26,
   "id": "49ab62d5",
   "metadata": {},
   "outputs": [],
   "source": [
    "admiration = [\n",
    "    \"I'm inspired by their incredible talent.\",\n",
    "    \"Their achievements never cease to amaze me.\",\n",
    "    \"I have great respect for their dedication and hard work.\",\n",
    "    \"Their kindness and generosity are truly admirable.\",\n",
    "    \"I'm in awe of their creativity and innovation.\",\n",
    "    \"They always manage to exceed my expectations.\",\n",
    "    \"Their courage and determination are inspiring.\",\n",
    "    \"I'm grateful for their guidance and support.\",\n",
    "    \"They have an incredible ability to make a difference.\",\n",
    "    \"I deeply admire their strength and resilience.\"\n",
    "]\n",
    "\n",
    "amusement = [\n",
    "    \"That joke had me in stitches!\",\n",
    "    \"Their hilarious antics always make me laugh.\",\n",
    "    \"I can't help but chuckle at their witty remarks.\",\n",
    "    \"They have a fantastic sense of humor.\",\n",
    "    \"Their comedic timing is impeccable.\",\n",
    "    \"Their funny stories never fail to entertain me.\",\n",
    "    \"I'm always amused by their lighthearted personality.\",\n",
    "    \"Their jokes never cease to brighten my day.\",\n",
    "    \"Their funny videos always bring a smile to my face.\",\n",
    "    \"I can't stop giggling at their silly antics.\"\n",
    "]\n",
    "\n",
    "caring = [\n",
    "    \"They always show genuine concern for others.\",\n",
    "    \"Their kindness and compassion are truly heartwarming.\",\n",
    "    \"I'm grateful for their constant support and care.\",\n",
    "    \"They have a nurturing and loving nature.\",\n",
    "    \"Their thoughtfulness never goes unnoticed.\",\n",
    "    \"I appreciate their willingness to lend a helping hand.\",\n",
    "    \"They always go out of their way to make others feel loved.\",\n",
    "    \"Their caring nature is a source of comfort for me.\",\n",
    "    \"I'm fortunate to have them in my life.\",\n",
    "    \"They have a special gift for making others feel valued and cared for.\"\n",
    "]\n",
    "\n",
    "confusion = [\n",
    "    \"I'm completely baffled by this situation.\",\n",
    "    \"I can't make sense of what's happening.\",\n",
    "    \"Their explanation only added to my confusion.\",\n",
    "    \"I'm struggling to understand the complexity of the issue.\",\n",
    "    \"I'm lost and don't know which direction to take.\",\n",
    "    \"Their actions contradict their words, leaving me puzzled.\",\n",
    "    \"The more I try to figure it out, the more confused I become.\",\n",
    "    \"I feel like I'm in a maze with no clear way out.\",\n",
    "    \"The conflicting information has left me in a state of confusion.\",\n",
    "    \"I can't wrap my head around the intricacies of the problem.\"\n",
    "]\n",
    "\n",
    "curiosity = [\n",
    "    \"I'm intrigued by their groundbreaking research.\",\n",
    "    \"I have a burning desire to learn more about this topic.\",\n",
    "    \"Their unique perspective has piqued my curiosity.\",\n",
    "    \"I'm fascinated by their innovative approach.\",\n",
    "    \"I can't help but wonder how they achieved such remarkable results.\",\n",
    "    \"Their discoveries have sparked my curiosity.\",\n",
    "    \"I'm eager to explore the depths of this subject.\",\n",
    "    \"Their work has opened up a world of possibilities, and I'm curious to see where it leads.\",\n",
    "    \"Their ideas have ignited a sense of curiosity within me.\",\n",
    "    \"I'm captivated by their ability to uncover new insights.\"\n",
    "]\n",
    "\n",
    "desire = [\n",
    "    \"I long for the day when we can be together again.\",\n",
    "    \"Their presence fills me with a deep longing.\",\n",
    "    \"I yearn to achieve my dreams and aspirations.\",\n",
    "    \"I crave the warmth of their embrace.\",\n",
    "    \"Their passionate words ignite a fire within me.\",\n",
    "    \"I'm consumed by a strong desire to succeed.\",\n",
    "    \"I'm eager to explore new horizons and push my limits.\",\n",
    "    \"Their charisma and charm awaken a desire in me.\",\n",
    "    \"I'm driven by an insatiable hunger for success.\",\n",
    "    \"I'm filled with an intense longing to experience life to the fullest.\"\n",
    "]\n",
    "\n",
    "disapproval = [\n",
    "    \"I strongly disagree with their actions.\",\n",
    "    \"Their behavior is completely unacceptable.\",\n",
    "    \"I can't help but express my disapproval.\",\n",
    "    \"Their decisions leave much to be desired.\",\n",
    "    \"I'm disappointed by their lack of integrity.\",\n",
    "    \"Their attitude is highly inappropriate and deserves disapproval.\",\n",
    "    \"I vehemently object to their unethical conduct.\",\n",
    "    \"Their actions go against my principles and values.\",\n",
    "    \"I find their behavior to be deeply disrespectful.\",\n",
    "    \"I express my clear disapproval of their actions.\"\n",
    "]\n",
    "\n",
    "fear = [\n",
    "    \"I'm terrified of what the future holds.\",\n",
    "    \"Their presence fills me with an overwhelming sense of fear.\",\n",
    "    \"I'm paralyzed by fear and unable to take action.\",\n",
    "    \"Their words send shivers down my spine.\",\n",
    "    \"I'm haunted by the fear of failure.\",\n",
    "    \"I can't escape the gripping fear that engulfs me.\",\n",
    "    \"Their menacing presence fills me with terror.\",\n",
    "    \"I'm overcome with a sense of dread and apprehension.\",\n",
    "    \"I live in constant fear of the unknown.\",\n",
    "    \"Their actions have instilled a deep fear within me.\"\n",
    "]\n",
    "\n",
    "optimism = [\n",
    "    \"I'm hopeful for a brighter tomorrow.\",\n",
    "    \"Their positive outlook is contagious.\",\n",
    "    \"I'm filled with optimism about the future.\",\n",
    "    \"Their unwavering belief inspires me to keep going.\",\n",
    "    \"I see endless possibilities and opportunities ahead.\",\n",
    "    \"Their resilience gives me hope in the face of challenges.\",\n",
    "    \"I'm optimistic that things will work out in the end.\",\n",
    "    \"Their encouraging words uplift my spirits.\",\n",
    "    \"I believe that great things are on the horizon.\",\n",
    "    \"Their optimism is a beacon of light in dark times.\"\n",
    "]\n",
    "\n",
    "realisation = [\n",
    "    \"I've come to the realization that change is necessary.\",\n",
    "    \"Their words have led to a profound realization.\",\n",
    "    \"I'm finally beginning to understand the truth of the matter.\",\n",
    "    \"Their actions have opened my eyes to a new reality.\",\n",
    "    \"I've had a moment of clarity and sudden understanding.\",\n",
    "    \"Their insights have sparked a realization within me.\",\n",
    "    \"I've come to a deep realization about my own behavior.\",\n",
    "    \"Their revelation has brought about a significant shift in my perspective.\",\n",
    "    \"I'm now aware of the impact of my actions.\",\n",
    "    \"Their wisdom has led me to a realization that will shape my future.\"\n",
    "]\n",
    "\n",
    "relief = [\n",
    "    \"I feel a sense of relief knowing that it's finally over.\",\n",
    "    \"Their help has brought immense relief to my situation.\",\n",
    "    \"I can breathe a sigh of relief now that the burden has been lifted.\",\n",
    "    \"Their support has provided much-needed relief during a difficult time.\",\n",
    "    \"I'm relieved to have found a solution to the problem.\",\n",
    "    \"Their actions have brought me a sense of relief and peace.\",\n",
    "    \"I can finally relax and experience a sense of relief.\",\n",
    "    \"Their intervention has brought about a feeling of relief and gratitude.\",\n",
    "    \"I'm grateful for the relief they have provided in this challenging situation.\",\n",
    "    \"I'm relieved to know that I'm not alone in this.\"\n",
    "]\n",
    "\n",
    "sadness = [\n",
    "    \"I feel a deep sadness in my heart.\",\n",
    "    \"Their absence has left me feeling empty and sad.\",\n",
    "    \"I'm overcome with a profound sadness that's hard to describe.\",\n",
    "    \"Their departure has brought about a sense of sadness and longing.\",\n",
    "    \"I can't help but feel a wave of sadness wash over me.\",\n",
    "    \"Their words have filled me with a deep sense of sadness and sorrow.\",\n",
    "    \"I'm mourning the loss and feeling a heavy sadness in my soul.\",\n",
    "    \"Their actions have caused me great sadness and despair.\",\n",
    "    \"I'm enveloped in a blanket of sadness that's hard to shake off.\",\n",
    "    \"Their situation brings tears to my eyes and fills me with sadness.\"\n",
    "]\n",
    "\n",
    "surprise = [\n",
    "    \"I'm taken aback by their unexpected act of kindness.\",\n",
    "    \"Their announcement came as a complete surprise to me.\",\n",
    "    \"I'm pleasantly surprised by the outcome.\",\n",
    "    \"Their unexpected gesture has left me speechless.\",\n",
    "    \"I'm amazed by their sudden change in behavior.\",\n",
    "    \"Their surprising revelation has left me in awe.\",\n",
    "    \"I'm in a state of disbelief due to their unexpected achievement.\",\n",
    "    \"Their surprising talent has caught me off guard.\",\n",
    "    \"I'm pleasantly surprised by the positive turn of events.\",\n",
    "    \"Their unexpected response has left me pleasantly surprised.\"\n",
    "]\n",
    "\n",
    "neutral = [\n",
    "    \"The weather today is quite pleasant.\",\n",
    "    \"I'm looking forward to the weekend.\",\n",
    "    \"I enjoy spending time with my friends and family.\",\n",
    "    \"I appreciate the beauty of nature.\",\n",
    "    \"I like to read books in my free time.\",\n",
    "    \"I'm trying out a new recipe for dinner tonight.\",\n",
    "    \"I find solace in listening to music.\",\n",
    "    \"I'm planning to go for a walk later in the evening.\",\n",
    "    \"I'm excited about the upcoming holiday season.\",\n",
    "    \"I value honesty and integrity in my relationships.\"\n",
    "]"
   ]
  },
  {
   "cell_type": "code",
   "execution_count": 27,
   "id": "3c2f6d1c",
   "metadata": {},
   "outputs": [
    {
     "name": "stdout",
     "output_type": "stream",
     "text": [
      "[{'emotion': 'admiration', 'score': 0.9999721050262451, 'text': \"I'm inspired by their incredible talent.\"}]\n",
      "Confidence: 0.9999721050262451\n",
      "\n",
      "[{'emotion': 'admiration', 'score': 0.9999555349349976, 'text': 'Their achievements never cease to amaze me.'}]\n",
      "Confidence: 0.9999555349349976\n",
      "\n",
      "[{'emotion': 'admiration', 'score': 0.9999697208404541, 'text': 'I have great respect for their dedication and hard work.'}]\n",
      "Confidence: 0.9999697208404541\n",
      "\n",
      "[{'emotion': 'admiration', 'score': 0.9999719858169556, 'text': 'Their kindness and generosity are truly admirable.'}]\n",
      "Confidence: 0.9999719858169556\n",
      "\n",
      "[{'emotion': 'admiration', 'score': 0.9999676942825317, 'text': \"I'm in awe of their creativity and innovation.\"}]\n",
      "Confidence: 0.9999676942825317\n",
      "\n",
      "[{'emotion': 'desire', 'score': 0.9950994849205017, 'text': 'They always manage to exceed my expectations.'}]\n",
      "Confidence: 0.9950994849205017\n",
      "\n",
      "[{'emotion': 'admiration', 'score': 0.9999614953994751, 'text': 'Their courage and determination are inspiring.'}]\n",
      "Confidence: 0.9999614953994751\n",
      "\n",
      "[{'emotion': 'admiration', 'score': 0.9999662637710571, 'text': \"I'm grateful for their guidance and support.\"}]\n",
      "Confidence: 0.9999662637710571\n",
      "\n",
      "[{'emotion': 'admiration', 'score': 0.9999693632125854, 'text': 'They have an incredible ability to make a difference.'}]\n",
      "Confidence: 0.9999693632125854\n",
      "\n",
      "[{'emotion': 'admiration', 'score': 0.9999648332595825, 'text': 'I deeply admire their strength and resilience.'}]\n",
      "Confidence: 0.9999648332595825\n",
      "\n",
      "Mean Confidence: 0.9994798481464386\n"
     ]
    }
   ],
   "source": [
    "###admiration\n",
    "perform_curl_requests(api_endpoint, admiration)\n"
   ]
  },
  {
   "cell_type": "code",
   "execution_count": 28,
   "id": "611a4c92",
   "metadata": {},
   "outputs": [
    {
     "name": "stdout",
     "output_type": "stream",
     "text": [
      "[{'emotion': 'amusement', 'score': 0.9999163150787354, 'text': 'That joke had me in stitches!'}]\n",
      "Confidence: 0.9999163150787354\n",
      "\n",
      "[{'emotion': 'amusement', 'score': 0.9999483823776245, 'text': 'Their hilarious antics always make me laugh.'}]\n",
      "Confidence: 0.9999483823776245\n",
      "\n",
      "[{'emotion': 'amusement', 'score': 0.9999434947967529, 'text': \"I can't help but chuckle at their witty remarks.\"}]\n",
      "Confidence: 0.9999434947967529\n",
      "\n",
      "[{'emotion': 'admiration', 'score': 0.9999736547470093, 'text': 'They have a fantastic sense of humor.'}]\n",
      "Confidence: 0.9999736547470093\n",
      "\n",
      "[{'emotion': 'admiration', 'score': 0.9999687671661377, 'text': 'Their comedic timing is impeccable.'}]\n",
      "Confidence: 0.9999687671661377\n",
      "\n",
      "[{'emotion': 'amusement', 'score': 0.9999511241912842, 'text': 'Their funny stories never fail to entertain me.'}]\n",
      "Confidence: 0.9999511241912842\n",
      "\n",
      "[{'emotion': 'amusement', 'score': 0.9999310970306396, 'text': \"I'm always amused by their lighthearted personality.\"}]\n",
      "Confidence: 0.9999310970306396\n",
      "\n",
      "[{'emotion': 'amusement', 'score': 0.9999431371688843, 'text': 'Their jokes never cease to brighten my day.'}]\n",
      "Confidence: 0.9999431371688843\n",
      "\n",
      "[{'emotion': 'amusement', 'score': 0.9999403953552246, 'text': 'Their funny videos always bring a smile to my face.'}]\n",
      "Confidence: 0.9999403953552246\n",
      "\n",
      "[{'emotion': 'amusement', 'score': 0.9999438524246216, 'text': \"I can't stop giggling at their silly antics.\"}]\n",
      "Confidence: 0.9999438524246216\n",
      "\n",
      "Mean Confidence: 0.9999460220336914\n"
     ]
    }
   ],
   "source": [
    "###amusement\n",
    "perform_curl_requests(api_endpoint, amusement)\n"
   ]
  },
  {
   "cell_type": "code",
   "execution_count": 29,
   "id": "58c83aff",
   "metadata": {},
   "outputs": [
    {
     "name": "stdout",
     "output_type": "stream",
     "text": [
      "[{'emotion': 'caring', 'score': 0.9992930889129639, 'text': 'They always show genuine concern for others.'}]\n",
      "Confidence: 0.9992930889129639\n",
      "\n",
      "[{'emotion': 'admiration', 'score': 0.9999527931213379, 'text': 'Their kindness and compassion are truly heartwarming.'}]\n",
      "Confidence: 0.9999527931213379\n",
      "\n",
      "[{'emotion': 'admiration', 'score': 0.9999659061431885, 'text': \"I'm grateful for their constant support and care.\"}]\n",
      "Confidence: 0.9999659061431885\n",
      "\n",
      "[{'emotion': 'admiration', 'score': 0.9999544620513916, 'text': 'They have a nurturing and loving nature.'}]\n",
      "Confidence: 0.9999544620513916\n",
      "\n",
      "[{'emotion': 'admiration', 'score': 0.9999412298202515, 'text': 'Their thoughtfulness never goes unnoticed.'}]\n",
      "Confidence: 0.9999412298202515\n",
      "\n",
      "[{'emotion': 'admiration', 'score': 0.9999669790267944, 'text': 'I appreciate their willingness to lend a helping hand.'}]\n",
      "Confidence: 0.9999669790267944\n",
      "\n",
      "[{'emotion': 'admiration', 'score': 0.9999233484268188, 'text': 'They always go out of their way to make others feel loved.'}]\n",
      "Confidence: 0.9999233484268188\n",
      "\n",
      "[{'emotion': 'admiration', 'score': 0.9998189806938171, 'text': 'Their caring nature is a source of comfort for me.'}]\n",
      "Confidence: 0.9998189806938171\n",
      "\n",
      "[{'emotion': 'admiration', 'score': 0.9999655485153198, 'text': \"I'm fortunate to have them in my life.\"}]\n",
      "Confidence: 0.9999655485153198\n",
      "\n",
      "[{'emotion': 'admiration', 'score': 0.999790370464325, 'text': 'They have a special gift for making others feel valued and cared for.'}]\n",
      "Confidence: 0.999790370464325\n",
      "\n",
      "Mean Confidence: 0.9998572707176209\n"
     ]
    }
   ],
   "source": [
    "###caring\n",
    "perform_curl_requests(api_endpoint, caring)\n"
   ]
  },
  {
   "cell_type": "code",
   "execution_count": 30,
   "id": "771e7ab2",
   "metadata": {},
   "outputs": [
    {
     "name": "stdout",
     "output_type": "stream",
     "text": [
      "[{'emotion': 'confusion', 'score': 0.9999243021011353, 'text': \"I'm completely baffled by this situation.\"}]\n",
      "Confidence: 0.9999243021011353\n",
      "\n",
      "[{'emotion': 'confusion', 'score': 0.999879002571106, 'text': \"I can't make sense of what's happening.\"}]\n",
      "Confidence: 0.999879002571106\n",
      "\n",
      "[{'emotion': 'confusion', 'score': 0.9999290704727173, 'text': 'Their explanation only added to my confusion.'}]\n",
      "Confidence: 0.9999290704727173\n",
      "\n",
      "[{'emotion': 'neutral', 'score': 0.9982531666755676, 'text': \"I'm struggling to understand the complexity of the issue.\"}]\n",
      "Confidence: 0.9982531666755676\n",
      "\n",
      "[{'emotion': 'confusion', 'score': 0.9998428821563721, 'text': \"I'm lost and don't know which direction to take.\"}]\n",
      "Confidence: 0.9998428821563721\n",
      "\n",
      "[{'emotion': 'confusion', 'score': 0.9999278783798218, 'text': 'Their actions contradict their words, leaving me puzzled.'}]\n",
      "Confidence: 0.9999278783798218\n",
      "\n",
      "[{'emotion': 'confusion', 'score': 0.9998791217803955, 'text': 'The more I try to figure it out, the more confused I become.'}]\n",
      "Confidence: 0.9998791217803955\n",
      "\n",
      "[{'emotion': 'fear', 'score': 0.9967097043991089, 'text': \"I feel like I'm in a maze with no clear way out.\"}]\n",
      "Confidence: 0.9967097043991089\n",
      "\n",
      "[{'emotion': 'confusion', 'score': 0.9998781681060791, 'text': 'The conflicting information has left me in a state of confusion.'}]\n",
      "Confidence: 0.9998781681060791\n",
      "\n",
      "[{'emotion': 'confusion', 'score': 0.9996625185012817, 'text': \"I can't wrap my head around the intricacies of the problem.\"}]\n",
      "Confidence: 0.9996625185012817\n",
      "\n",
      "Mean Confidence: 0.9993885815143585\n"
     ]
    }
   ],
   "source": [
    "###confusion\n",
    "perform_curl_requests(api_endpoint, confusion)\n"
   ]
  },
  {
   "cell_type": "code",
   "execution_count": 31,
   "id": "33132595",
   "metadata": {},
   "outputs": [
    {
     "name": "stdout",
     "output_type": "stream",
     "text": [
      "[{'emotion': 'admiration', 'score': 0.998802661895752, 'text': \"I'm intrigued by their groundbreaking research.\"}]\n",
      "Confidence: 0.998802661895752\n",
      "\n",
      "[{'emotion': 'desire', 'score': 0.9997779726982117, 'text': 'I have a burning desire to learn more about this topic.'}]\n",
      "Confidence: 0.9997779726982117\n",
      "\n",
      "[{'emotion': 'curiosity', 'score': 0.9999256134033203, 'text': 'Their unique perspective has piqued my curiosity.'}]\n",
      "Confidence: 0.9999256134033203\n",
      "\n",
      "[{'emotion': 'admiration', 'score': 0.9999619722366333, 'text': \"I'm fascinated by their innovative approach.\"}]\n",
      "Confidence: 0.9999619722366333\n",
      "\n",
      "[{'emotion': 'admiration', 'score': 0.9999604225158691, 'text': \"I can't help but wonder how they achieved such remarkable results.\"}]\n",
      "Confidence: 0.9999604225158691\n",
      "\n",
      "[{'emotion': 'curiosity', 'score': 0.9998762607574463, 'text': 'Their discoveries have sparked my curiosity.'}]\n",
      "Confidence: 0.9998762607574463\n",
      "\n",
      "[{'emotion': 'amusement', 'score': 0.9997709393501282, 'text': \"I'm eager to explore the depths of this subject.\"}]\n",
      "Confidence: 0.9997709393501282\n",
      "\n",
      "[{'emotion': 'admiration', 'score': 0.9976609945297241, 'text': \"Their work has opened up a world of possibilities, and I'm curious to see where it leads.\"}]\n",
      "Confidence: 0.9976609945297241\n",
      "\n",
      "[{'emotion': 'curiosity', 'score': 0.9990044236183167, 'text': 'Their ideas have ignited a sense of curiosity within me.'}]\n",
      "Confidence: 0.9990044236183167\n",
      "\n",
      "[{'emotion': 'admiration', 'score': 0.9999673366546631, 'text': \"I'm captivated by their ability to uncover new insights.\"}]\n",
      "Confidence: 0.9999673366546631\n",
      "\n",
      "Mean Confidence: 0.9994708597660065\n"
     ]
    }
   ],
   "source": [
    "###curiosity\n",
    "perform_curl_requests(api_endpoint, curiosity)\n"
   ]
  },
  {
   "cell_type": "code",
   "execution_count": 32,
   "id": "0e4b2da5",
   "metadata": {},
   "outputs": [
    {
     "name": "stdout",
     "output_type": "stream",
     "text": [
      "[{'emotion': 'desire', 'score': 0.9999151229858398, 'text': 'I long for the day when we can be together again.'}]\n",
      "Confidence: 0.9999151229858398\n",
      "\n",
      "[{'emotion': 'desire', 'score': 0.998915433883667, 'text': 'Their presence fills me with a deep longing.'}]\n",
      "Confidence: 0.998915433883667\n",
      "\n",
      "[{'emotion': 'desire', 'score': 0.9999641180038452, 'text': 'I yearn to achieve my dreams and aspirations.'}]\n",
      "Confidence: 0.9999641180038452\n",
      "\n",
      "[{'emotion': 'desire', 'score': 0.9999401569366455, 'text': 'I crave the warmth of their embrace.'}]\n",
      "Confidence: 0.9999401569366455\n",
      "\n",
      "[{'emotion': 'admiration', 'score': 0.9998500347137451, 'text': 'Their passionate words ignite a fire within me.'}]\n",
      "Confidence: 0.9998500347137451\n",
      "\n",
      "[{'emotion': 'desire', 'score': 0.9998375177383423, 'text': \"I'm consumed by a strong desire to succeed.\"}]\n",
      "Confidence: 0.9998375177383423\n",
      "\n",
      "[{'emotion': 'amusement', 'score': 0.9985426664352417, 'text': \"I'm eager to explore new horizons and push my limits.\"}]\n",
      "Confidence: 0.9985426664352417\n",
      "\n",
      "[{'emotion': 'admiration', 'score': 0.9999451637268066, 'text': 'Their charisma and charm awaken a desire in me.'}]\n",
      "Confidence: 0.9999451637268066\n",
      "\n",
      "[{'emotion': 'desire', 'score': 0.9997859597206116, 'text': \"I'm driven by an insatiable hunger for success.\"}]\n",
      "Confidence: 0.9997859597206116\n",
      "\n",
      "[{'emotion': 'desire', 'score': 0.9992109537124634, 'text': \"I'm filled with an intense longing to experience life to the fullest.\"}]\n",
      "Confidence: 0.9992109537124634\n",
      "\n",
      "Mean Confidence: 0.9995907127857209\n"
     ]
    }
   ],
   "source": [
    "###desire\n",
    "perform_curl_requests(api_endpoint, desire)\n"
   ]
  },
  {
   "cell_type": "code",
   "execution_count": 34,
   "id": "f175a518",
   "metadata": {},
   "outputs": [
    {
     "name": "stdout",
     "output_type": "stream",
     "text": [
      "[{'emotion': 'annoyance', 'score': 0.9999512434005737, 'text': 'I strongly disagree with their actions.'}]\n",
      "Confidence: 0.9999512434005737\n",
      "\n",
      "[{'emotion': 'annoyance', 'score': 0.9999529123306274, 'text': 'Their behavior is completely unacceptable.'}]\n",
      "Confidence: 0.9999529123306274\n",
      "\n",
      "[{'emotion': 'annoyance', 'score': 0.9999568462371826, 'text': \"I can't help but express my disapproval.\"}]\n",
      "Confidence: 0.9999568462371826\n",
      "\n",
      "[{'emotion': 'neutral', 'score': 0.9999251365661621, 'text': 'Their decisions leave much to be desired.'}]\n",
      "Confidence: 0.9999251365661621\n",
      "\n",
      "[{'emotion': 'sadness', 'score': 0.9999549388885498, 'text': \"I'm disappointed by their lack of integrity.\"}]\n",
      "Confidence: 0.9999549388885498\n",
      "\n",
      "[{'emotion': 'annoyance', 'score': 0.9999456405639648, 'text': 'Their attitude is highly inappropriate and deserves disapproval.'}]\n",
      "Confidence: 0.9999456405639648\n",
      "\n",
      "[{'emotion': 'annoyance', 'score': 0.999941349029541, 'text': 'I vehemently object to their unethical conduct.'}]\n",
      "Confidence: 0.999941349029541\n",
      "\n",
      "[{'emotion': 'annoyance', 'score': 0.9999475479125977, 'text': 'Their actions go against my principles and values.'}]\n",
      "Confidence: 0.9999475479125977\n",
      "\n",
      "[{'emotion': 'annoyance', 'score': 0.9998809099197388, 'text': 'I find their behavior to be deeply disrespectful.'}]\n",
      "Confidence: 0.9998809099197388\n",
      "\n",
      "[{'emotion': 'annoyance', 'score': 0.999947190284729, 'text': 'I express my clear disapproval of their actions.'}]\n",
      "Confidence: 0.999947190284729\n",
      "\n",
      "Mean Confidence: 0.9999403715133667\n"
     ]
    }
   ],
   "source": [
    "###disapproval\n",
    "perform_curl_requests(api_endpoint, disapproval)\n"
   ]
  },
  {
   "cell_type": "code",
   "execution_count": 35,
   "id": "bb79c64e",
   "metadata": {},
   "outputs": [
    {
     "name": "stdout",
     "output_type": "stream",
     "text": [
      "[{'emotion': 'fear', 'score': 0.9999655485153198, 'text': \"I'm terrified of what the future holds.\"}]\n",
      "Confidence: 0.9999655485153198\n",
      "\n",
      "[{'emotion': 'fear', 'score': 0.9999585151672363, 'text': 'Their presence fills me with an overwhelming sense of fear.'}]\n",
      "Confidence: 0.9999585151672363\n",
      "\n",
      "[{'emotion': 'fear', 'score': 0.9999529123306274, 'text': \"I'm paralyzed by fear and unable to take action.\"}]\n",
      "Confidence: 0.9999529123306274\n",
      "\n",
      "[{'emotion': 'fear', 'score': 0.9999450445175171, 'text': 'Their words send shivers down my spine.'}]\n",
      "Confidence: 0.9999450445175171\n",
      "\n",
      "[{'emotion': 'fear', 'score': 0.9998495578765869, 'text': \"I'm haunted by the fear of failure.\"}]\n",
      "Confidence: 0.9998495578765869\n",
      "\n",
      "[{'emotion': 'fear', 'score': 0.9999608993530273, 'text': \"I can't escape the gripping fear that engulfs me.\"}]\n",
      "Confidence: 0.9999608993530273\n",
      "\n",
      "[{'emotion': 'fear', 'score': 0.9999589920043945, 'text': 'Their menacing presence fills me with terror.'}]\n",
      "Confidence: 0.9999589920043945\n",
      "\n",
      "[{'emotion': 'fear', 'score': 0.9999654293060303, 'text': \"I'm overcome with a sense of dread and apprehension.\"}]\n",
      "Confidence: 0.9999654293060303\n",
      "\n",
      "[{'emotion': 'fear', 'score': 0.9999686479568481, 'text': 'I live in constant fear of the unknown.'}]\n",
      "Confidence: 0.9999686479568481\n",
      "\n",
      "[{'emotion': 'fear', 'score': 0.9999512434005737, 'text': 'Their actions have instilled a deep fear within me.'}]\n",
      "Confidence: 0.9999512434005737\n",
      "\n",
      "Mean Confidence: 0.9999476790428161\n"
     ]
    }
   ],
   "source": [
    "###fear\n",
    "perform_curl_requests(api_endpoint, fear)\n"
   ]
  },
  {
   "cell_type": "code",
   "execution_count": 36,
   "id": "21d3bec7",
   "metadata": {},
   "outputs": [
    {
     "name": "stdout",
     "output_type": "stream",
     "text": [
      "[{'emotion': 'optimism', 'score': 0.9999352693557739, 'text': \"I'm hopeful for a brighter tomorrow.\"}]\n",
      "Confidence: 0.9999352693557739\n",
      "\n",
      "[{'emotion': 'admiration', 'score': 0.999717652797699, 'text': 'Their positive outlook is contagious.'}]\n",
      "Confidence: 0.999717652797699\n",
      "\n",
      "[{'emotion': 'optimism', 'score': 0.9998443126678467, 'text': \"I'm filled with optimism about the future.\"}]\n",
      "Confidence: 0.9998443126678467\n",
      "\n",
      "[{'emotion': 'admiration', 'score': 0.9998902082443237, 'text': 'Their unwavering belief inspires me to keep going.'}]\n",
      "Confidence: 0.9998902082443237\n",
      "\n",
      "[{'emotion': 'optimism', 'score': 0.9999114274978638, 'text': 'I see endless possibilities and opportunities ahead.'}]\n",
      "Confidence: 0.9999114274978638\n",
      "\n",
      "[{'emotion': 'admiration', 'score': 0.9989169836044312, 'text': 'Their resilience gives me hope in the face of challenges.'}]\n",
      "Confidence: 0.9989169836044312\n",
      "\n",
      "[{'emotion': 'optimism', 'score': 0.9999383687973022, 'text': \"I'm optimistic that things will work out in the end.\"}]\n",
      "Confidence: 0.9999383687973022\n",
      "\n",
      "[{'emotion': 'admiration', 'score': 0.9997276663780212, 'text': 'Their encouraging words uplift my spirits.'}]\n",
      "Confidence: 0.9997276663780212\n",
      "\n",
      "[{'emotion': 'optimism', 'score': 0.999895453453064, 'text': 'I believe that great things are on the horizon.'}]\n",
      "Confidence: 0.999895453453064\n",
      "\n",
      "[{'emotion': 'admiration', 'score': 0.999658465385437, 'text': 'Their optimism is a beacon of light in dark times.'}]\n",
      "Confidence: 0.999658465385437\n",
      "\n",
      "Mean Confidence: 0.9997435808181763\n"
     ]
    }
   ],
   "source": [
    "###optimism\n",
    "perform_curl_requests(api_endpoint, optimism)\n"
   ]
  },
  {
   "cell_type": "code",
   "execution_count": 37,
   "id": "e06e50dd",
   "metadata": {},
   "outputs": [
    {
     "name": "stdout",
     "output_type": "stream",
     "text": [
      "[{'emotion': 'realisation', 'score': 0.9999423027038574, 'text': \"I've come to the realization that change is necessary.\"}]\n",
      "Confidence: 0.9999423027038574\n",
      "\n",
      "[{'emotion': 'admiration', 'score': 0.9995784163475037, 'text': 'Their words have led to a profound realization.'}]\n",
      "Confidence: 0.9995784163475037\n",
      "\n",
      "[{'emotion': 'realisation', 'score': 0.9999176263809204, 'text': \"I'm finally beginning to understand the truth of the matter.\"}]\n",
      "Confidence: 0.9999176263809204\n",
      "\n",
      "[{'emotion': 'realisation', 'score': 0.9976867437362671, 'text': 'Their actions have opened my eyes to a new reality.'}]\n",
      "Confidence: 0.9976867437362671\n",
      "\n",
      "[{'emotion': 'realisation', 'score': 0.9985068440437317, 'text': \"I've had a moment of clarity and sudden understanding.\"}]\n",
      "Confidence: 0.9985068440437317\n",
      "\n",
      "[{'emotion': 'admiration', 'score': 0.998960018157959, 'text': 'Their insights have sparked a realization within me.'}]\n",
      "Confidence: 0.998960018157959\n",
      "\n",
      "[{'emotion': 'realisation', 'score': 0.9999350309371948, 'text': \"I've come to a deep realization about my own behavior.\"}]\n",
      "Confidence: 0.9999350309371948\n",
      "\n",
      "[{'emotion': 'admiration', 'score': 0.9996280670166016, 'text': 'Their revelation has brought about a significant shift in my perspective.'}]\n",
      "Confidence: 0.9996280670166016\n",
      "\n",
      "[{'emotion': 'realisation', 'score': 0.999948263168335, 'text': \"I'm now aware of the impact of my actions.\"}]\n",
      "Confidence: 0.999948263168335\n",
      "\n",
      "[{'emotion': 'admiration', 'score': 0.9991759657859802, 'text': 'Their wisdom has led me to a realization that will shape my future.'}]\n",
      "Confidence: 0.9991759657859802\n",
      "\n",
      "Mean Confidence: 0.9993279278278351\n"
     ]
    }
   ],
   "source": [
    "###realisation\n",
    "perform_curl_requests(api_endpoint, realisation)\n"
   ]
  },
  {
   "cell_type": "code",
   "execution_count": 38,
   "id": "fcd6b2f5",
   "metadata": {},
   "outputs": [
    {
     "name": "stdout",
     "output_type": "stream",
     "text": [
      "[{'emotion': 'relief', 'score': 0.9999617338180542, 'text': \"I feel a sense of relief knowing that it's finally over.\"}]\n",
      "Confidence: 0.9999617338180542\n",
      "\n",
      "[{'emotion': 'relief', 'score': 0.9997445940971375, 'text': 'Their help has brought immense relief to my situation.'}]\n",
      "Confidence: 0.9997445940971375\n",
      "\n",
      "[{'emotion': 'relief', 'score': 0.9999517202377319, 'text': 'I can breathe a sigh of relief now that the burden has been lifted.'}]\n",
      "Confidence: 0.9999517202377319\n",
      "\n",
      "[{'emotion': 'admiration', 'score': 0.9990377426147461, 'text': 'Their support has provided much-needed relief during a difficult time.'}]\n",
      "Confidence: 0.9990377426147461\n",
      "\n",
      "[{'emotion': 'relief', 'score': 0.9999444484710693, 'text': \"I'm relieved to have found a solution to the problem.\"}]\n",
      "Confidence: 0.9999444484710693\n",
      "\n",
      "[{'emotion': 'relief', 'score': 0.9988945126533508, 'text': 'Their actions have brought me a sense of relief and peace.'}]\n",
      "Confidence: 0.9988945126533508\n",
      "\n",
      "[{'emotion': 'relief', 'score': 0.9999383687973022, 'text': 'I can finally relax and experience a sense of relief.'}]\n",
      "Confidence: 0.9999383687973022\n",
      "\n",
      "[{'emotion': 'admiration', 'score': 0.9999662637710571, 'text': 'Their intervention has brought about a feeling of relief and gratitude.'}]\n",
      "Confidence: 0.9999662637710571\n",
      "\n",
      "[{'emotion': 'admiration', 'score': 0.9999542236328125, 'text': \"I'm grateful for the relief they have provided in this challenging situation.\"}]\n",
      "Confidence: 0.9999542236328125\n",
      "\n",
      "[{'emotion': 'relief', 'score': 0.999931812286377, 'text': \"I'm relieved to know that I'm not alone in this.\"}]\n",
      "Confidence: 0.999931812286377\n",
      "\n",
      "Mean Confidence: 0.9997325420379639\n"
     ]
    }
   ],
   "source": [
    "###relief\n",
    "perform_curl_requests(api_endpoint, relief)\n"
   ]
  },
  {
   "cell_type": "code",
   "execution_count": 40,
   "id": "c82b1dcb",
   "metadata": {},
   "outputs": [
    {
     "name": "stdout",
     "output_type": "stream",
     "text": [
      "[{'emotion': 'sadness', 'score': 0.999951958656311, 'text': 'I feel a deep sadness in my heart.'}]\n",
      "Confidence: 0.999951958656311\n",
      "\n",
      "[{'emotion': 'sadness', 'score': 0.999953031539917, 'text': 'Their absence has left me feeling empty and sad.'}]\n",
      "Confidence: 0.999953031539917\n",
      "\n",
      "[{'emotion': 'sadness', 'score': 0.9999592304229736, 'text': \"I'm overcome with a profound sadness that's hard to describe.\"}]\n",
      "Confidence: 0.9999592304229736\n",
      "\n",
      "[{'emotion': 'sadness', 'score': 0.999954104423523, 'text': 'Their departure has brought about a sense of sadness and longing.'}]\n",
      "Confidence: 0.999954104423523\n",
      "\n",
      "[{'emotion': 'sadness', 'score': 0.9999535083770752, 'text': \"I can't help but feel a wave of sadness wash over me.\"}]\n",
      "Confidence: 0.9999535083770752\n",
      "\n",
      "[{'emotion': 'sadness', 'score': 0.9999579191207886, 'text': 'Their words have filled me with a deep sense of sadness and sorrow.'}]\n",
      "Confidence: 0.9999579191207886\n",
      "\n",
      "[{'emotion': 'sadness', 'score': 0.9999536275863647, 'text': \"I'm mourning the loss and feeling a heavy sadness in my soul.\"}]\n",
      "Confidence: 0.9999536275863647\n",
      "\n",
      "[{'emotion': 'sadness', 'score': 0.9999489784240723, 'text': 'Their actions have caused me great sadness and despair.'}]\n",
      "Confidence: 0.9999489784240723\n",
      "\n",
      "[{'emotion': 'sadness', 'score': 0.999958872795105, 'text': \"I'm enveloped in a blanket of sadness that's hard to shake off.\"}]\n",
      "Confidence: 0.999958872795105\n",
      "\n",
      "[{'emotion': 'sadness', 'score': 0.9999569654464722, 'text': 'Their situation brings tears to my eyes and fills me with sadness.'}]\n",
      "Confidence: 0.9999569654464722\n",
      "\n",
      "Mean Confidence: 0.9999548196792603\n"
     ]
    }
   ],
   "source": [
    "###sadness\n",
    "perform_curl_requests(api_endpoint, sadness)\n"
   ]
  },
  {
   "cell_type": "code",
   "execution_count": 41,
   "id": "187f9390",
   "metadata": {},
   "outputs": [
    {
     "name": "stdout",
     "output_type": "stream",
     "text": [
      "[{'emotion': 'surprise', 'score': 0.9998891353607178, 'text': \"I'm taken aback by their unexpected act of kindness.\"}]\n",
      "Confidence: 0.9998891353607178\n",
      "\n",
      "[{'emotion': 'surprise', 'score': 0.9999011754989624, 'text': 'Their announcement came as a complete surprise to me.'}]\n",
      "Confidence: 0.9999011754989624\n",
      "\n",
      "[{'emotion': 'surprise', 'score': 0.9999113082885742, 'text': \"I'm pleasantly surprised by the outcome.\"}]\n",
      "Confidence: 0.9999113082885742\n",
      "\n",
      "[{'emotion': 'surprise', 'score': 0.999822199344635, 'text': 'Their unexpected gesture has left me speechless.'}]\n",
      "Confidence: 0.999822199344635\n",
      "\n",
      "[{'emotion': 'surprise', 'score': 0.9999197721481323, 'text': \"I'm amazed by their sudden change in behavior.\"}]\n",
      "Confidence: 0.9999197721481323\n",
      "\n",
      "[{'emotion': 'surprise', 'score': 0.9978457689285278, 'text': 'Their surprising revelation has left me in awe.'}]\n",
      "Confidence: 0.9978457689285278\n",
      "\n",
      "[{'emotion': 'surprise', 'score': 0.9984737038612366, 'text': \"I'm in a state of disbelief due to their unexpected achievement.\"}]\n",
      "Confidence: 0.9984737038612366\n",
      "\n",
      "[{'emotion': 'surprise', 'score': 0.9992814660072327, 'text': 'Their surprising talent has caught me off guard.'}]\n",
      "Confidence: 0.9992814660072327\n",
      "\n",
      "[{'emotion': 'surprise', 'score': 0.999900221824646, 'text': \"I'm pleasantly surprised by the positive turn of events.\"}]\n",
      "Confidence: 0.999900221824646\n",
      "\n",
      "[{'emotion': 'surprise', 'score': 0.9999128580093384, 'text': 'Their unexpected response has left me pleasantly surprised.'}]\n",
      "Confidence: 0.9999128580093384\n",
      "\n",
      "Mean Confidence: 0.9994857609272003\n"
     ]
    }
   ],
   "source": [
    "###surprise\n",
    "perform_curl_requests(api_endpoint, surprise)\n"
   ]
  },
  {
   "cell_type": "code",
   "execution_count": 39,
   "id": "70e2ecb6",
   "metadata": {
    "scrolled": true
   },
   "outputs": [
    {
     "name": "stdout",
     "output_type": "stream",
     "text": [
      "[{'emotion': 'admiration', 'score': 0.9969266057014465, 'text': 'The weather today is quite pleasant.'}]\n",
      "Confidence: 0.9969266057014465\n",
      "\n",
      "[{'emotion': 'admiration', 'score': 0.9990699887275696, 'text': \"I'm looking forward to the weekend.\"}]\n",
      "Confidence: 0.9990699887275696\n",
      "\n",
      "[{'emotion': 'amusement', 'score': 0.9999327659606934, 'text': 'I enjoy spending time with my friends and family.'}]\n",
      "Confidence: 0.9999327659606934\n",
      "\n",
      "[{'emotion': 'admiration', 'score': 0.9999704360961914, 'text': 'I appreciate the beauty of nature.'}]\n",
      "Confidence: 0.9999704360961914\n",
      "\n",
      "[{'emotion': 'admiration', 'score': 0.9996435642242432, 'text': 'I like to read books in my free time.'}]\n",
      "Confidence: 0.9996435642242432\n",
      "\n",
      "[{'emotion': 'neutral', 'score': 0.9999274015426636, 'text': \"I'm trying out a new recipe for dinner tonight.\"}]\n",
      "Confidence: 0.9999274015426636\n",
      "\n",
      "[{'emotion': 'admiration', 'score': 0.9998138546943665, 'text': 'I find solace in listening to music.'}]\n",
      "Confidence: 0.9998138546943665\n",
      "\n",
      "[{'emotion': 'neutral', 'score': 0.9967227578163147, 'text': \"I'm planning to go for a walk later in the evening.\"}]\n",
      "Confidence: 0.9967227578163147\n",
      "\n",
      "[{'emotion': 'amusement', 'score': 0.9999356269836426, 'text': \"I'm excited about the upcoming holiday season.\"}]\n",
      "Confidence: 0.9999356269836426\n",
      "\n",
      "[{'emotion': 'admiration', 'score': 0.9998123049736023, 'text': 'I value honesty and integrity in my relationships.'}]\n",
      "Confidence: 0.9998123049736023\n",
      "\n",
      "Mean Confidence: 0.9991755306720733\n"
     ]
    }
   ],
   "source": [
    "###neutral\n",
    "perform_curl_requests(api_endpoint, neutral)\n"
   ]
  },
  {
   "cell_type": "markdown",
   "id": "003f70fd",
   "metadata": {},
   "source": [
    "## Section 4: Endpoint Performance Evaluation"
   ]
  },
  {
   "cell_type": "code",
   "execution_count": 43,
   "id": "4f470d20",
   "metadata": {},
   "outputs": [
    {
     "name": "stdout",
     "output_type": "stream",
     "text": [
      "Metrics written to file: 20230520133512_stress_test.txt\n"
     ]
    }
   ],
   "source": [
    "import subprocess\n",
    "import json\n",
    "import time\n",
    "import random\n",
    "import string\n",
    "from datetime import datetime\n",
    "\n",
    "def perform_stress_test_1(api_endpoint, input_texts, num_requests):\n",
    "    # Generate curl commands for each input text\n",
    "    curl_commands = []\n",
    "    for input_text in input_texts:\n",
    "        data = json.dumps({'input_text': input_text})\n",
    "        curl_commands.append(f'curl -X POST -H \"Content-Type: application/json\" -d \\'{data}\\' {api_endpoint}')\n",
    "\n",
    "    # Send concurrent curl requests using subprocess\n",
    "    processes = []\n",
    "    start_time = time.time()\n",
    "    for _ in range(num_requests):\n",
    "        for curl_command in curl_commands:\n",
    "            process = subprocess.Popen(curl_command, shell=True)\n",
    "            processes.append(process)\n",
    "\n",
    "    # Wait for all processes to complete\n",
    "    for process in processes:\n",
    "        process.wait()\n",
    "\n",
    "    # Calculate metrics\n",
    "    total_time = time.time() - start_time\n",
    "    average_time = total_time / (num_requests * len(input_texts))\n",
    "    status = [process.returncode for process in processes]\n",
    "\n",
    "    # Generate random file name\n",
    "    #file_name = ''.join(random.choices(string.ascii_lowercase, k=10)) + \"_stress_test\" +\".txt\"\n",
    "\n",
    "    current_time = datetime.now().strftime(\"%Y%m%d%H%M%S\")\n",
    "    file_name = f\"{current_time}_stress_test_1.txt\"\n",
    "    # Write metrics to file\n",
    "    with open(file_name, 'w') as f:\n",
    "        f.write(f\"Total Time: {total_time} seconds\\n\")\n",
    "        f.write(f\"Average Time: {average_time} seconds\\n\")\n",
    "        f.write(f\"Status Codes: {status}\\n\")\n",
    "\n",
    "    print(f\"Metrics written to file: {file_name}\")\n",
    "\n",
    "# Example usage\n",
    "api_endpoint = \"http://127.0.0.1:5000/results\"\n",
    "input_texts = [\n",
    "    \"I can't believe how amazing this day has been!\",\n",
    "    \"I'm feeling so excited about the upcoming event.\",\n",
    "    \"I'm devastated by the news of her passing.\",\n",
    "    \"What a wonderful surprise!\",\n",
    "    \"I'm furious at the way they treated us.\",\n",
    "    \"This book made me incredibly happy.\",\n",
    "    \"I'm anxious about the interview tomorrow.\",\n",
    "    \"I feel so betrayed by his actions.\",\n",
    "    \"The breathtaking view left me speechless.\",\n",
    "    \"I'm heartbroken over the loss of my pet.\",\n",
    "    \"I'm proud of my accomplishments today.\",\n",
    "    \"I'm terrified of what might happen next.\",\n",
    "    \"This delicious meal made me feel content.\",\n",
    "    \"I'm frustrated with the lack of progress.\",\n",
    "    \"The beautiful sunset brought tears to my eyes.\",\n",
    "    \"I'm overwhelmed with joy and gratitude.\",\n",
    "    \"I'm disappointed in the outcome of the game.\",\n",
    "    \"I'm filled with anticipation for the trip.\",\n",
    "    \"The heartwarming movie made me cry.\",\n",
    "    \"I'm worried about the future of our planet.\",\n",
    "    \"This unexpected gift made me feel loved.\",\n",
    "    \"I'm irritated by their constant interruptions.\",\n",
    "    \"I'm touched by their kindness and generosity.\",\n",
    "    \"The tragic accident left me in shock.\",\n",
    "    \"I'm thrilled to have achieved my goal.\",\n",
    "    \"I'm annoyed by their lack of consideration.\",\n",
    "    \"I'm moved by the powerful speech.\",\n",
    "    \"This challenging puzzle frustrated me.\",\n",
    "    \"I'm scared of the dark.\",\n",
    "    \"I'm elated by the news of their engagement.\",\n",
    "    \"I'm exhausted after a long day of work.\",\n",
    "    \"The heartbreaking story brought me to tears.\"\n",
    "]\n",
    "num_requests = 10\n",
    "perform_stress_test_1(api_endpoint, input_texts, num_requests)"
   ]
  },
  {
   "cell_type": "code",
   "execution_count": 49,
   "id": "77286dfc",
   "metadata": {},
   "outputs": [],
   "source": [
    "def combine_lists(*lists):\n",
    "    combined_list = []\n",
    "    for lst in lists:\n",
    "        combined_list.extend(lst)\n",
    "    return combined_list\n"
   ]
  },
  {
   "cell_type": "code",
   "execution_count": 51,
   "id": "c16c5548",
   "metadata": {},
   "outputs": [],
   "source": [
    "combined = combine_lists(admiration, amusement, caring, confusion, curiosity, desire, disapproval, fear, optimism, realisation, relief, sadness, surprise, neutral)\n"
   ]
  },
  {
   "cell_type": "code",
   "execution_count": null,
   "id": "efb3ddfc",
   "metadata": {},
   "outputs": [],
   "source": []
  },
  {
   "cell_type": "code",
   "execution_count": 59,
   "id": "03d086ab",
   "metadata": {},
   "outputs": [],
   "source": [
    "import subprocess\n",
    "import json\n",
    "import time\n",
    "import random\n",
    "import string\n",
    "from datetime import datetime\n",
    "\n",
    "\n",
    "\n",
    "def perform_stress_test(api_endpoint, input_texts, num_input_texts, num_requests):\n",
    "    if num_input_texts > len(input_texts):\n",
    "        raise ValueError(\"Number of input texts exceeds the length of the input_texts list.\")\n",
    "\n",
    "    \n",
    "    # Example list of input texts\n",
    "    input_texts =input_texts[:num_input_texts]\n",
    "\n",
    "    # Generate curl commands for each input text\n",
    "    curl_commands = []\n",
    "    for input_text in input_texts:\n",
    "        data = json.dumps({'input_text': input_text})\n",
    "        curl_commands.append(f'curl -X POST -H \"Content-Type: application/json\" -d \\'{data}\\' {api_endpoint}')\n",
    "\n",
    "    # Send concurrent curl requests using subprocess\n",
    "    processes = []\n",
    "    start_time = time.time()\n",
    "    for _ in range(num_requests):\n",
    "        for curl_command in curl_commands:\n",
    "            process = subprocess.Popen(curl_command, shell=True)\n",
    "            processes.append(process)\n",
    "\n",
    "    # Wait for all processes to complete\n",
    "    for process in processes:\n",
    "        process.wait()\n",
    "\n",
    "    # Calculate metrics\n",
    "    total_time = time.time() - start_time\n",
    "    average_time = total_time / (num_requests * len(input_texts))\n",
    "    status = [process.returncode for process in processes]\n",
    "\n",
    "    # Generate random file name\n",
    "    #file_name = ''.join(random.choices(string.ascii_lowercase, k=10)) + \"_stress_test\" +\".txt\"\n",
    "\n",
    "    current_time = datetime.now().strftime(\"%Y%m%d%H%M%S\")\n",
    "    file_name = f\"{current_time}_stress_test_2.txt\"\n",
    "    # Write metrics to file\n",
    "    with open(file_name, 'w') as f:\n",
    "        f.write(f\"Total Time: {total_time} seconds\\n\")\n",
    "        f.write(f\"Average Time: {average_time} seconds\\n\")\n",
    "        f.write(f\"Status Codes: {status}\\n\")\n",
    "    \n",
    "    metrics = {\n",
    "        \"Total Time\": total_time,\n",
    "        \"Average Time\": average_time\n",
    "    }\n",
    "\n",
    "    print(f\"Metrics written to file: {file_name}\")\n",
    "    return metrics\n"
   ]
  },
  {
   "cell_type": "code",
   "execution_count": 60,
   "id": "5a2fe7dc",
   "metadata": {},
   "outputs": [
    {
     "name": "stdout",
     "output_type": "stream",
     "text": [
      "Metrics written to file: 20230520135337_stress_test_2.txt\n"
     ]
    },
    {
     "data": {
      "text/plain": [
       "{'Total Time': 10.01357913017273, 'Average Time': 0.02670287768046061}"
      ]
     },
     "execution_count": 60,
     "metadata": {},
     "output_type": "execute_result"
    }
   ],
   "source": [
    "\n",
    "num_input_texts = 25\n",
    "num_requests = 15\n",
    "random.shuffle(combined)\n",
    "perform_stress_test(api_endpoint, combined, num_input_texts, num_requests)\n"
   ]
  },
  {
   "cell_type": "code",
   "execution_count": 61,
   "id": "dd50700a",
   "metadata": {},
   "outputs": [
    {
     "name": "stdout",
     "output_type": "stream",
     "text": [
      "Metrics written to file: 20230520135438_stress_test_2.txt\n"
     ]
    },
    {
     "data": {
      "text/plain": [
       "{'Total Time': 20.83930993080139, 'Average Time': 0.027785746574401856}"
      ]
     },
     "execution_count": 61,
     "metadata": {},
     "output_type": "execute_result"
    }
   ],
   "source": [
    "\n",
    "num_input_texts = 50\n",
    "num_requests = 15\n",
    "random.shuffle(combined)\n",
    "perform_stress_test(api_endpoint, combined, num_input_texts, num_requests)\n"
   ]
  },
  {
   "cell_type": "code",
   "execution_count": 62,
   "id": "afcf2829",
   "metadata": {},
   "outputs": [],
   "source": [
    "import subprocess\n",
    "import json\n",
    "import time\n",
    "import random\n",
    "import string\n",
    "from datetime import datetime\n",
    "from concurrent.futures import ThreadPoolExecutor\n",
    "\n",
    "def perform_stress_test_concurrent(api_endpoint, input_texts, num_input_texts, num_requests):\n",
    "    # Example list of input texts\n",
    "    input_texts = input_texts[:num_input_texts]\n",
    "\n",
    "    # Generate curl commands for each input text\n",
    "    curl_commands = []\n",
    "    for input_text in input_texts:\n",
    "        data = json.dumps({'input_text': input_text})\n",
    "        curl_commands.append(f'curl -X POST -H \"Content-Type: application/json\" -d \\'{data}\\' {api_endpoint}')\n",
    "\n",
    "    # Send concurrent curl requests using ThreadPoolExecutor\n",
    "    processes = []\n",
    "    start_time = time.time()\n",
    "    with ThreadPoolExecutor() as executor:\n",
    "        for _ in range(num_requests):\n",
    "            for curl_command in curl_commands:\n",
    "                process = executor.submit(subprocess.call, curl_command, shell=True)\n",
    "                processes.append(process)\n",
    "\n",
    "    # Wait for all processes to complete\n",
    "    for process in processes:\n",
    "        process.result()\n",
    "\n",
    "    # Calculate metrics\n",
    "    total_time = time.time() - start_time\n",
    "    average_time = total_time / (num_requests * len(input_texts))\n",
    "    status = [process.result() for process in processes]\n",
    "\n",
    "    # Generate random file name\n",
    "    current_time = datetime.now().strftime(\"%Y%m%d%H%M%S\")\n",
    "    file_name = f\"{current_time}_stress_test.txt\"\n",
    "\n",
    "    # Write metrics to file\n",
    "    with open(file_name, 'w') as f:\n",
    "        f.write(f\"Total Time: {total_time} seconds\\n\")\n",
    "        f.write(f\"Average Time: {average_time} seconds\\n\")\n",
    "        f.write(f\"Status Codes: {status}\\n\")\n",
    "    metrics = {\n",
    "        \"Total Time\": total_time,\n",
    "        \"Average Time\": average_time\n",
    "    }\n",
    "\n",
    "    print(f\"Metrics written to file: {file_name}\")\n",
    "    return metrics\n"
   ]
  },
  {
   "cell_type": "code",
   "execution_count": 64,
   "id": "0f00079a",
   "metadata": {},
   "outputs": [
    {
     "name": "stdout",
     "output_type": "stream",
     "text": [
      "Metrics written to file: 20230520135935_stress_test.txt\n"
     ]
    },
    {
     "data": {
      "text/plain": [
       "{'Total Time': 9.777600288391113, 'Average Time': 0.026073600769042967}"
      ]
     },
     "execution_count": 64,
     "metadata": {},
     "output_type": "execute_result"
    }
   ],
   "source": [
    "\n",
    "num_input_texts = 25\n",
    "num_requests = 15\n",
    "random.shuffle(combined)\n",
    "perform_stress_test_concurrent(api_endpoint, combined, num_input_texts, num_requests)\n"
   ]
  },
  {
   "cell_type": "code",
   "execution_count": 65,
   "id": "d8572848",
   "metadata": {},
   "outputs": [
    {
     "name": "stdout",
     "output_type": "stream",
     "text": [
      "Metrics written to file: 20230520140023_stress_test.txt\n"
     ]
    },
    {
     "data": {
      "text/plain": [
       "{'Total Time': 20.884441375732422, 'Average Time': 0.027845921834309895}"
      ]
     },
     "execution_count": 65,
     "metadata": {},
     "output_type": "execute_result"
    }
   ],
   "source": [
    "\n",
    "num_input_texts = 50\n",
    "num_requests = 15\n",
    "random.shuffle(combined)\n",
    "perform_stress_test_concurrent(api_endpoint, combined, num_input_texts, num_requests)\n"
   ]
  },
  {
   "cell_type": "code",
   "execution_count": null,
   "id": "a9290966",
   "metadata": {},
   "outputs": [],
   "source": []
  }
 ],
 "metadata": {
  "kernelspec": {
   "display_name": "Python 3 (ipykernel)",
   "language": "python",
   "name": "python3"
  },
  "language_info": {
   "codemirror_mode": {
    "name": "ipython",
    "version": 3
   },
   "file_extension": ".py",
   "mimetype": "text/x-python",
   "name": "python",
   "nbconvert_exporter": "python",
   "pygments_lexer": "ipython3",
   "version": "3.10.11"
  }
 },
 "nbformat": 4,
 "nbformat_minor": 5
}
